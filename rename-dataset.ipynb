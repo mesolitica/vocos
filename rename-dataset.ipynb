{
 "cells": [
  {
   "cell_type": "code",
   "execution_count": 8,
   "id": "dbf87a55",
   "metadata": {},
   "outputs": [],
   "source": [
    "# !wget https://huggingface.co/datasets/mesolitica/Malaysian-Voice-Conversion/resolve/main/data/vocoder/train-vocoder.txt"
   ]
  },
  {
   "cell_type": "code",
   "execution_count": 9,
   "id": "cae29d3e",
   "metadata": {},
   "outputs": [],
   "source": [
    "# !wget https://huggingface.co/datasets/mesolitica/Malaysian-Speech-Benchmark/resolve/main/vocoder/test-vocoder.txt"
   ]
  },
  {
   "cell_type": "code",
   "execution_count": 23,
   "id": "816f5ba4",
   "metadata": {},
   "outputs": [],
   "source": [
    "# !wget https://huggingface.co/datasets/mesolitica/Malaysian-Speech-Benchmark/resolve/main/vocoder/test-vocoder.zip\n",
    "# !unzip test-vocoder.zip"
   ]
  },
  {
   "cell_type": "code",
   "execution_count": 10,
   "id": "21765a00",
   "metadata": {},
   "outputs": [],
   "source": [
    "import os"
   ]
  },
  {
   "cell_type": "code",
   "execution_count": 24,
   "id": "7abae40f",
   "metadata": {},
   "outputs": [],
   "source": [
    "with open('train-vocoder-post.txt', 'w') as fopen_w:\n",
    "    with open('train-vocoder.txt') as fopen:\n",
    "        for l in fopen:\n",
    "            if 'test-vocoder' in l:\n",
    "                continue\n",
    "            l = l.replace('/home/husein/ssd3/', '/workspace/').strip()\n",
    "            fopen_w.write(f'{l}\\n')"
   ]
  },
  {
   "cell_type": "code",
   "execution_count": 25,
   "id": "6bbae972",
   "metadata": {},
   "outputs": [],
   "source": [
    "with open('test-vocoder-post.txt', 'w') as fopen_w:\n",
    "    with open('test-vocoder.txt') as fopen:\n",
    "        for l in fopen:\n",
    "            l = l.replace('/home/husein/ssd3/', '/workspace/').strip()\n",
    "            fopen_w.write(f'{l}\\n')"
   ]
  },
  {
   "cell_type": "code",
   "execution_count": null,
   "id": "0d29d409",
   "metadata": {},
   "outputs": [],
   "source": []
  }
 ],
 "metadata": {
  "kernelspec": {
   "display_name": "Python 3 (ipykernel)",
   "language": "python",
   "name": "python3"
  },
  "language_info": {
   "codemirror_mode": {
    "name": "ipython",
    "version": 3
   },
   "file_extension": ".py",
   "mimetype": "text/x-python",
   "name": "python",
   "nbconvert_exporter": "python",
   "pygments_lexer": "ipython3",
   "version": "3.11.10"
  }
 },
 "nbformat": 4,
 "nbformat_minor": 5
}
